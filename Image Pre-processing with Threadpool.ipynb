{
 "cells": [
  {
   "cell_type": "markdown",
   "id": "b7ebf955",
   "metadata": {},
   "source": [
    "Using multiprocessing to process and filter Rhabdmyosarcoma tumour patches os high resolution images"
   ]
  },
  {
   "cell_type": "markdown",
   "id": "8d4e7cc8",
   "metadata": {},
   "source": [
    "The below code is used to filter and check whether each patch of tumuor image contains atleast 80% tumour, a patch of tumour images contains more than or equal to 80% tumour is moved to different directory which is used for model training."
   ]
  },
  {
   "cell_type": "code",
   "execution_count": null,
   "id": "9c014809",
   "metadata": {},
   "outputs": [],
   "source": [
    "import os\n",
    "import pandas as pd\n",
    "import glob\n",
    "import shutil\n",
    "from multiprocessing.pool import Pool"
   ]
  },
  {
   "cell_type": "code",
   "execution_count": 4,
   "id": "666307e0",
   "metadata": {},
   "outputs": [],
   "source": [
    "def white_space_elimination(file):\n",
    "    image = cv2.imread(file)\n",
    "    h, w, _ = image.shape\n",
    "    gray = cv2.cvtColor(image, cv2.COLOR_BGR2GRAY)\n",
    "    thresh = cv2.threshold(gray, 223, 255, cv2.THRESH_BINARY)[1]\n",
    "    total_pixels = h*w\n",
    "    Non_zero_pixels = cv2.countNonZero(thresh)\n",
    "    Zero_pixels = total_pixels - Non_zero_pixels\n",
    "    ratio = (Zero_pixels/total_pixels) * 100\n",
    "    if ratio >= 80:\n",
    "        print('Not Background')\n",
    "        print(total_pixels,Non_zero_pixels,Zero_pixels)\n",
    "    else:\n",
    "        back = shutil.move(file,'DIRECTORY OF PROCESSED IMAGES')"
   ]
  },
  {
   "cell_type": "code",
   "execution_count": null,
   "id": "6c3e8ecb",
   "metadata": {},
   "outputs": [],
   "source": [
    "DIR = 'DIRECTORY OF INITAL IMAGES'\n",
    "All_files = glob.glob(os.path.join(DIR, '*.png'))\n",
    "with Pool(processes=10) as pool:\n",
    "    results = pool.map(white_space_elimination,All_files)"
   ]
  }
 ],
 "metadata": {
  "kernelspec": {
   "display_name": "Python 3",
   "language": "python",
   "name": "python3"
  },
  "language_info": {
   "codemirror_mode": {
    "name": "ipython",
    "version": 3
   },
   "file_extension": ".py",
   "mimetype": "text/x-python",
   "name": "python",
   "nbconvert_exporter": "python",
   "pygments_lexer": "ipython3",
   "version": "3.8.8"
  }
 },
 "nbformat": 4,
 "nbformat_minor": 5
}
